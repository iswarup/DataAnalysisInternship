{
  "nbformat": 4,
  "nbformat_minor": 0,
  "metadata": {
    "colab": {
      "name": "Aus_REI_Solution.ipynb",
      "provenance": [],
      "collapsed_sections": [],
      "toc_visible": true
    },
    "kernelspec": {
      "name": "python3",
      "display_name": "Python 3"
    }
  },
  "cells": [
    {
      "cell_type": "markdown",
      "metadata": {
        "id": "z4JGtuyZfgqW"
      },
      "source": [
        "# Analysis of Australia's Renewable Energy Index values over time"
      ]
    },
    {
      "cell_type": "code",
      "metadata": {
        "id": "ojVNnprOj-UL"
      },
      "source": [
        "import pandas as pd\n",
        "import numpy as np\n",
        "import seaborn as sns\n",
        "import matplotlib.pyplot as plt\n",
        "from scipy.optimize import curve_fit\n",
        "\n",
        "import warnings\n",
        "warnings.filterwarnings('ignore')"
      ],
      "execution_count": 38,
      "outputs": []
    },
    {
      "cell_type": "code",
      "metadata": {
        "id": "JEinVUEnnvo4"
      },
      "source": [
        "import pandas as pd \n",
        "Values = [1,1.113572,1.075245,1.15586,1.143912,1.116324,1.098268,1.175124,1.104041,1.167808,1.180695,1.21909,1.199758,1.249765,1.254061,1.349376,1.452678,1.410458,1.32407,1.248624,1.457981,1.763525,1.766546,2.195194,2.42395,2.243455,2.49369,2.698886,2.987448]\n",
        "\n",
        "df = pd.Series(Values)"
      ],
      "execution_count": null,
      "outputs": []
    },
    {
      "cell_type": "code",
      "metadata": {
        "colab": {
          "base_uri": "https://localhost:8080/"
        },
        "id": "kEUY0J89KSlN",
        "outputId": "f9bee446-959e-4abb-ac05-3b9bfb7f9a62"
      },
      "source": [
        "df.describe()"
      ],
      "execution_count": null,
      "outputs": [
        {
          "output_type": "execute_result",
          "data": {
            "text/plain": [
              "count    29.000000\n",
              "mean      1.519635\n",
              "std       0.556952\n",
              "min       1.000000\n",
              "25%       1.155860\n",
              "50%       1.249765\n",
              "75%       1.763525\n",
              "max       2.987448\n",
              "dtype: float64"
            ]
          },
          "metadata": {
            "tags": []
          },
          "execution_count": 4
        }
      ]
    },
    {
      "cell_type": "markdown",
      "metadata": {
        "id": "nrtFlBL4bLwQ"
      },
      "source": [
        "Above values give us a numerical descriptive summary of the data."
      ]
    },
    {
      "cell_type": "markdown",
      "metadata": {
        "id": "SsXj578mKK-2"
      },
      "source": [
        "## EDA"
      ]
    },
    {
      "cell_type": "markdown",
      "metadata": {
        "id": "tLl-DHT2cTmi"
      },
      "source": [
        "### Scatter Plot"
      ]
    },
    {
      "cell_type": "code",
      "metadata": {
        "colab": {
          "base_uri": "https://localhost:8080/"
        },
        "id": "e6_E0h77n17D",
        "outputId": "567f4fe7-4a93-4397-fef8-943a672ff1ce"
      },
      "source": [
        "sns.relplot(data=df);"
      ],
      "execution_count": null,
      "outputs": [
        {
          "output_type": "display_data",
          "data": {
            "image/png": "[encoded data removed]",
            "text/plain": [
              "<Figure size 360x360 with 1 Axes>"
            ]
          },
          "metadata": {
            "tags": [],
            "needs_background": "light"
          }
        }
      ]
    },
    {
      "cell_type": "markdown",
      "metadata": {
        "id": "onC0ju6VAniS"
      },
      "source": [
        "The values after the year 20 seem to be increasing exponentially."
      ]
    },
    {
      "cell_type": "markdown",
      "metadata": {
        "id": "hnfbNCJNcziY"
      },
      "source": [
        "### Box and whiskers plot"
      ]
    },
    {
      "cell_type": "code",
      "metadata": {
        "colab": {
          "base_uri": "https://localhost:8080/"
        },
        "id": "qvFw45WTqKhA",
        "outputId": "24cc5e87-b8c2-4c10-8edc-4c7f74c7f5ea"
      },
      "source": [
        "sns.boxplot(df);"
      ],
      "execution_count": null,
      "outputs": [
        {
          "output_type": "display_data",
          "data": {
            "image/png": "[encoded data removed]",
            "text/plain": [
              "<Figure size 432x288 with 1 Axes>"
            ]
          },
          "metadata": {
            "tags": [],
            "needs_background": "light"
          }
        }
      ]
    },
    {
      "cell_type": "markdown",
      "metadata": {
        "id": "XhLkRUIhBKux"
      },
      "source": [
        "We see two values post the right whisker line here.\n",
        "We can confirm if they are outliers with further analysis."
      ]
    },
    {
      "cell_type": "markdown",
      "metadata": {
        "id": "x9mESpv-dz6J"
      },
      "source": [
        "### KDE plot"
      ]
    },
    {
      "cell_type": "code",
      "metadata": {
        "colab": {
          "base_uri": "https://localhost:8080/"
        },
        "id": "YX6AjEymCGrU",
        "outputId": "ecea783e-f9ef-4ef9-a814-d99b4a5bd391"
      },
      "source": [
        "sns.displot(data=df,kind='kde');"
      ],
      "execution_count": null,
      "outputs": [
        {
          "output_type": "display_data",
          "data": {
            "image/png": "[encoded data removed]",
            "text/plain": [
              "<Figure size 360x360 with 1 Axes>"
            ]
          },
          "metadata": {
            "tags": [],
            "needs_background": "light"
          }
        }
      ]
    },
    {
      "cell_type": "markdown",
      "metadata": {
        "id": "yqy1xoBMClgR"
      },
      "source": [
        "Most of the values are between 0.5 to 2.0"
      ]
    },
    {
      "cell_type": "markdown",
      "metadata": {
        "id": "ucd1vJIbeMHC"
      },
      "source": [
        "### Histogram"
      ]
    },
    {
      "cell_type": "code",
      "metadata": {
        "colab": {
          "base_uri": "https://localhost:8080/"
        },
        "id": "MXKCmzCp8w18",
        "outputId": "1dae8d77-ea28-4c52-d651-133294b29b55"
      },
      "source": [
        "sns.displot(df);"
      ],
      "execution_count": null,
      "outputs": [
        {
          "output_type": "display_data",
          "data": {
            "image/png": "[encoded data removed]",
            "text/plain": [
              "<Figure size 360x360 with 1 Axes>"
            ]
          },
          "metadata": {
            "tags": [],
            "needs_background": "light"
          }
        }
      ]
    },
    {
      "cell_type": "markdown",
      "metadata": {
        "id": "8NfLj6ExGQHW"
      },
      "source": [
        "This histogram shows the number of values *(count)* across intervals."
      ]
    },
    {
      "cell_type": "markdown",
      "metadata": {
        "id": "cb3MU9dPKCX0"
      },
      "source": [
        "## Curve fitting"
      ]
    },
    {
      "cell_type": "code",
      "metadata": {
        "colab": {
          "base_uri": "https://localhost:8080/"
        },
        "id": "k8t-t9dlKjW0",
        "outputId": "e40f8675-2744-4f25-8c19-b53d7023aa3a"
      },
      "source": [
        "y = df.values\n",
        "ymean = np.mean(y)\n",
        "ymean"
      ],
      "execution_count": null,
      "outputs": [
        {
          "output_type": "execute_result",
          "data": {
            "text/plain": [
              "1.5196346206896552"
            ]
          },
          "metadata": {
            "tags": []
          },
          "execution_count": 9
        }
      ]
    },
    {
      "cell_type": "code",
      "metadata": {
        "colab": {
          "base_uri": "https://localhost:8080/"
        },
        "id": "4ov1hkXRKrmK",
        "outputId": "60d93952-7887-4eb1-8a59-c3933f882f7d"
      },
      "source": [
        "x = df.index\n",
        "xmean = np.mean(x)\n",
        "xmean"
      ],
      "execution_count": null,
      "outputs": [
        {
          "output_type": "execute_result",
          "data": {
            "text/plain": [
              "14.0"
            ]
          },
          "metadata": {
            "tags": []
          },
          "execution_count": 10
        }
      ]
    },
    {
      "cell_type": "code",
      "metadata": {
        "colab": {
          "base_uri": "https://localhost:8080/"
        },
        "id": "L7z8bNlwOBwD",
        "outputId": "a3704b48-d537-41e8-dfa3-976c5d53f90f"
      },
      "source": [
        "slope = np.sum((x - xmean)*(y-ymean)) / np.sum((x-xmean)**2)\n",
        "slope"
      ],
      "execution_count": null,
      "outputs": [
        {
          "output_type": "execute_result",
          "data": {
            "text/plain": [
              "0.05599716995073891"
            ]
          },
          "metadata": {
            "tags": []
          },
          "execution_count": 11
        }
      ]
    },
    {
      "cell_type": "code",
      "metadata": {
        "colab": {
          "base_uri": "https://localhost:8080/"
        },
        "id": "zBT1QkMMSd88",
        "outputId": "e0ad8c3b-e12c-4c43-8d65-ba6e8f0eb6b9"
      },
      "source": [
        "intercept = ymean - slope * xmean\n",
        "intercept"
      ],
      "execution_count": null,
      "outputs": [
        {
          "output_type": "execute_result",
          "data": {
            "text/plain": [
              "0.7356742413793104"
            ]
          },
          "metadata": {
            "tags": []
          },
          "execution_count": 12
        }
      ]
    },
    {
      "cell_type": "markdown",
      "metadata": {
        "id": "TORu8CnKp9A-"
      },
      "source": [
        "### Line curve\n"
      ]
    },
    {
      "cell_type": "markdown",
      "metadata": {
        "id": "6mZnIPRRS-EP"
      },
      "source": [
        "The line equation :-  Y = 0.056 X + 0.73 "
      ]
    },
    {
      "cell_type": "code",
      "metadata": {
        "id": "lFSLq8uET4wo"
      },
      "source": [
        "predictions = slope * x + intercept"
      ],
      "execution_count": null,
      "outputs": []
    },
    {
      "cell_type": "code",
      "metadata": {
        "id": "kweqIBBeVNCc"
      },
      "source": [
        "# type(predictions)"
      ],
      "execution_count": null,
      "outputs": []
    },
    {
      "cell_type": "code",
      "metadata": {
        "id": "20DVZKRyaXXw"
      },
      "source": [
        "# np.sqrt(np.sum((predictions-y)**2))"
      ],
      "execution_count": null,
      "outputs": []
    },
    {
      "cell_type": "code",
      "metadata": {
        "colab": {
          "base_uri": "https://localhost:8080/",
          "height": 265
        },
        "id": "8Lp-PzvOa3MF",
        "outputId": "bb83eb01-ed67-4d89-d69e-8f83e73b584e"
      },
      "source": [
        "\n",
        "sns.regplot(data=df, x=df.index,y=df.values)\n",
        "sns.regplot(data=df, x=df.index,y=predictions);"
      ],
      "execution_count": null,
      "outputs": [
        {
          "output_type": "display_data",
          "data": {
            "image/png": "[encoded data removed]",
            "text/plain": [
              "<Figure size 432x288 with 1 Axes>"
            ]
          },
          "metadata": {
            "tags": [],
            "needs_background": "light"
          }
        }
      ]
    },
    {
      "cell_type": "markdown",
      "metadata": {
        "id": "um7jNdEEpwZp"
      },
      "source": [
        "### Exponential curve"
      ]
    },
    {
      "cell_type": "markdown",
      "metadata": {
        "id": "MHvpW5DhqPQH"
      },
      "source": [
        "The equation :-  Y = a (1 + r ) **bX"
      ]
    },
    {
      "cell_type": "code",
      "metadata": {
        "id": "9lkaGs7gJRcm"
      },
      "source": [
        "def exPred(X):\n",
        "    \"\"\" X should be df.index. \"\"\"\n",
        "    diff = 0\n",
        "\n",
        "    for i in range(len(X)):\n",
        "        if (i+1) != l:\n",
        "            diff += (df.values[i+1] - df.values[i])\n",
        "    gr = diff/l  # growth rate\n",
        "\n",
        "    exPredictions = np.zeros(len(X))\n",
        "    for i in range(len(X)):\n",
        "        exPredictions[i] = (1+gr)**(0.55*i)\n",
        "    \n",
        "    return exPredictions"
      ],
      "execution_count": 49,
      "outputs": []
    },
    {
      "cell_type": "code",
      "metadata": {
        "colab": {
          "base_uri": "https://localhost:8080/"
        },
        "id": "1MrwcexZWmmn",
        "outputId": "712992df-2185-4986-8f1c-8cf4ea006ee4"
      },
      "source": [
        "exPredictions = exPred(df.index)\n",
        "exPredictions"
      ],
      "execution_count": 50,
      "outputs": [
        {
          "output_type": "execute_result",
          "data": {
            "text/plain": [
              "array([1.        , 1.03713024, 1.07563913, 1.11557787, 1.15699955,\n",
              "       1.19995922, 1.24451399, 1.29072309, 1.33864795, 1.38835227,\n",
              "       1.43990212, 1.49336603, 1.54881507, 1.60632295, 1.6659661 ,\n",
              "       1.72782382, 1.79197834, 1.85851492, 1.92752203, 1.99909138,\n",
              "       2.07331812, 2.15030092, 2.23014211, 2.31294782, 2.39882813,\n",
              "       2.48789719, 2.58027341, 2.67607958, 2.77544306])"
            ]
          },
          "metadata": {
            "tags": []
          },
          "execution_count": 50
        }
      ]
    },
    {
      "cell_type": "code",
      "metadata": {
        "colab": {
          "base_uri": "https://localhost:8080/",
          "height": 282
        },
        "id": "1WHYCj_TWRTD",
        "outputId": "623ccae4-46bd-48b5-e098-e9c62e7fdebe"
      },
      "source": [
        "sns.lineplot(x=df.index,y=df.values)\n",
        "sns.lineplot(x=df.index,y=exPredictions)"
      ],
      "execution_count": 51,
      "outputs": [
        {
          "output_type": "execute_result",
          "data": {
            "text/plain": [
              "<matplotlib.axes._subplots.AxesSubplot at 0x7f0f2c746160>"
            ]
          },
          "metadata": {
            "tags": []
          },
          "execution_count": 51
        },
        {
          "output_type": "display_data",
          "data": {
            "image/png": "[encoded data removed]",
            "text/plain": [
              "<Figure size 432x288 with 1 Axes>"
            ]
          },
          "metadata": {
            "tags": [],
            "needs_background": "light"
          }
        }
      ]
    },
    {
      "cell_type": "markdown",
      "metadata": {
        "id": "odLl_BlLfMRG"
      },
      "source": [
        "# Moving Averages"
      ]
    }
  ]
}
